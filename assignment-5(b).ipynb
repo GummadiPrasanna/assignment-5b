{
 "cells": [
  {
   "cell_type": "code",
   "execution_count": null,
   "id": "de3ed2e0",
   "metadata": {},
   "outputs": [],
   "source": [
    "Write a program,  my age is more than 20 print teen_age other wise print younge_age?\n",
    "\ta.my_age is 20, who am i? Expected output: you are teen_age>20\n",
    "\tb.my_age is 30, who am i? Expected output: you are younge_age\n",
    "\tc.my_age is 10, who am i? \n",
    "\td.my_age is 40, who am i? \n",
    "Write a program today is Monday/Tuesday/Wendsday/Thursday/Friday print weekday otherwise print weekend?   "
   ]
  },
  {
   "cell_type": "code",
   "execution_count": 2,
   "id": "6f92806e",
   "metadata": {},
   "outputs": [
    {
     "name": "stdout",
     "output_type": "stream",
     "text": [
      "you are younge age\n"
     ]
    }
   ],
   "source": [
    "my_age= 20\n",
    "if my_age>20:\n",
    "    print(\"you are teen age\")\n",
    "else:\n",
    "    print(\"you are younge age\")\n",
    "   "
   ]
  },
  {
   "cell_type": "code",
   "execution_count": 6,
   "id": "f2a56c36",
   "metadata": {},
   "outputs": [
    {
     "name": "stdout",
     "output_type": "stream",
     "text": [
      "you are teen age\n"
     ]
    }
   ],
   "source": [
    "my_age= 30\n",
    "if my_age>20:\n",
    "    print(\"you are teen age\")\n",
    "else:\n",
    "    print(\"you are younge age\")\n",
    "   "
   ]
  },
  {
   "cell_type": "code",
   "execution_count": 5,
   "id": "b18190de",
   "metadata": {},
   "outputs": [
    {
     "name": "stdout",
     "output_type": "stream",
     "text": [
      "you are younge age\n"
     ]
    }
   ],
   "source": [
    "my_age= 10\n",
    "if my_age>20:\n",
    "    print(\"you are teen age\")\n",
    "else:\n",
    "    print(\"you are younge age\")\n",
    "   "
   ]
  },
  {
   "cell_type": "code",
   "execution_count": 8,
   "id": "5efa2db2",
   "metadata": {},
   "outputs": [
    {
     "name": "stdout",
     "output_type": "stream",
     "text": [
      "you are teen age\n"
     ]
    }
   ],
   "source": [
    "my_age= 40\n",
    "if my_age>20:\n",
    "    print(\"you are teen age\")\n",
    "else:\n",
    "    print(\"you are younge age\")\n",
    "   "
   ]
  },
  {
   "cell_type": "code",
   "execution_count": 3,
   "id": "984b1942",
   "metadata": {},
   "outputs": [
    {
     "name": "stdout",
     "output_type": "stream",
     "text": [
      "weekday\n"
     ]
    }
   ],
   "source": [
    "today=\"monday\"\n",
    "if today==\"monday\":\n",
    "    print(\"weekday\")\n",
    "elif today==\"tuesday\":\n",
    "    print(\"weekday\")\n",
    "elif today==\"wendsday\":\n",
    "    print(\"weekday\")\n",
    "elif today==\"thursday\":\n",
    "    print(\"weekday\")\n",
    "elif today==\"friday\":\n",
    "    print(\"weekday\")\n",
    "elif today==\"saturday\":\n",
    "    print(\"weekend\")\n",
    "elif today==\"sunday\":\n",
    "    print(\"weekend\")\n",
    "else:\n",
    "    print(\"not available\")"
   ]
  },
  {
   "cell_type": "code",
   "execution_count": 4,
   "id": "f232fadb",
   "metadata": {},
   "outputs": [
    {
     "name": "stdout",
     "output_type": "stream",
     "text": [
      "weekend\n"
     ]
    }
   ],
   "source": [
    "today=\"sunday\"\n",
    "if today==\"monday\":\n",
    "    print(\"weekday\")\n",
    "elif today==\"tuesday\":\n",
    "    print(\"weekday\")\n",
    "elif today==\"wendsday\":\n",
    "    print(\"weekday\")\n",
    "elif today==\"thursday\":\n",
    "    print(\"weekday\")\n",
    "elif today==\"friday\":\n",
    "    print(\"weekday\")\n",
    "elif today==\"saturday\":\n",
    "    print(\"weekend\")\n",
    "elif today==\"sunday\":\n",
    "    print(\"weekend\")\n",
    "else:\n",
    "    print(\"not available\")"
   ]
  },
  {
   "cell_type": "code",
   "execution_count": null,
   "id": "3f7ea9da",
   "metadata": {},
   "outputs": [],
   "source": []
  },
  {
   "cell_type": "code",
   "execution_count": 4,
   "id": "30cd6682",
   "metadata": {},
   "outputs": [
    {
     "name": "stdout",
     "output_type": "stream",
     "text": [
      "i am younger\n"
     ]
    }
   ],
   "source": [
    "my_age=18\n",
    "sistersage=25\n",
    "if my_age>sistersage:\n",
    "    print(\"i am elder\")\n",
    "else:\n",
    "    print(\"i am younger\")"
   ]
  },
  {
   "cell_type": "code",
   "execution_count": 5,
   "id": "3a6c373c",
   "metadata": {},
   "outputs": [
    {
     "name": "stdout",
     "output_type": "stream",
     "text": [
      "i am elder\n"
     ]
    }
   ],
   "source": [
    "my_age=18\n",
    "sistersage=25\n",
    "if my_age<sistersage:\n",
    "    print(\"i am elder\")\n",
    "else:\n",
    "    print(\"i am younger\")\n"
   ]
  },
  {
   "cell_type": "code",
   "execution_count": null,
   "id": "21152d80",
   "metadata": {},
   "outputs": [],
   "source": [
    "Scenario3:festival offer in my shop. \n",
    "purchase amount more than 100 then print 30% discount.\n",
    " purchase amount less than 50 then print 10% discount \n",
    " otherwise print 20% discount.\t\n",
    " నా దుకాణంలో పండుగ ఆఫర్. కొనుగోలు మొత్తం 100 కంటే ఎక్కువ, ఆపై ప్రింట్ 30% తగ్గింపు. 50 కంటే తక్కువ మొత్తాన్ని కొనుగోలు చేసి, ఆపై 10% తగ్గింపును ప్రింట్ చేయండి లేకపోతే 20% తగ్గింపును ప్రింట్ చేయండి\n",
    " मेरी दुकान में त्योहार की पेशकश। खरीद राशि 100 से अधिक तो 30% छूट प्रिंट करें। खरीद राशि 50 से कम है तो 10% छूट प्रिंट करें अन्यथा 20% छूट प्रिंट करें।"
   ]
  },
  {
   "cell_type": "code",
   "execution_count": 27,
   "id": "c7545a74",
   "metadata": {},
   "outputs": [
    {
     "name": "stdout",
     "output_type": "stream",
     "text": [
      "30% discount\n"
     ]
    }
   ],
   "source": [
    "amount=101\n",
    "if amount>100:\n",
    "    print(\"30% discount\")\n",
    "elif amount<50:\n",
    "    print(\"10% discount\")\n",
    "else:\n",
    "    print(\"20% discount\")\n"
   ]
  },
  {
   "cell_type": "code",
   "execution_count": 38,
   "id": "071a77b7",
   "metadata": {},
   "outputs": [
    {
     "name": "stdout",
     "output_type": "stream",
     "text": [
      "20% discount\n"
     ]
    }
   ],
   "source": [
    "amount=100\n",
    "if amount>100:\n",
    "    print(\"30% discount\")\n",
    "elif amount<50:\n",
    "    print(\"10% discount\")\n",
    "else:\n",
    "    print(\"20% discount\")\n"
   ]
  },
  {
   "cell_type": "code",
   "execution_count": 39,
   "id": "008c31e1",
   "metadata": {},
   "outputs": [
    {
     "name": "stdout",
     "output_type": "stream",
     "text": [
      "10% discount\n"
     ]
    }
   ],
   "source": [
    "amount=100\n",
    "if amount>100:\n",
    "    print(\"30% discount\")\n",
    "elif amount>50:\n",
    "    print(\"10% discount\")\n",
    "else:\n",
    "    print(\"20% discount\")\n"
   ]
  },
  {
   "cell_type": "code",
   "execution_count": null,
   "id": "14b5ac82",
   "metadata": {},
   "outputs": [],
   "source": [
    " \n",
    " Scenario4:my movie theater prices. price is 140 print balcony. price is 50 print chair. price is 100 print bench\n",
    " \n",
    "నా సినిమా థియేటర్ ధరలు. ధర 140 ప్రింట్ బాల్కనీ. ధర 50 ప్రింట్ కుర్చీ. ధర 100 ప్రింట్ బెంచ్"
   ]
  },
  {
   "cell_type": "code",
   "execution_count": 31,
   "id": "a3ef7013",
   "metadata": {},
   "outputs": [
    {
     "name": "stdout",
     "output_type": "stream",
     "text": [
      "balcony\n"
     ]
    }
   ],
   "source": [
    "price=141\n",
    "if price>140:\n",
    "    print(\"balcony\")\n",
    "elif price>50:\n",
    "    print(\"chair\")\n",
    "else:\n",
    "    print(\"bench\")"
   ]
  },
  {
   "cell_type": "code",
   "execution_count": 36,
   "id": "a9cba85a",
   "metadata": {},
   "outputs": [
    {
     "name": "stdout",
     "output_type": "stream",
     "text": [
      "chair\n"
     ]
    }
   ],
   "source": [
    "price=130\n",
    "if price>140:\n",
    "    print(\"balcony\")\n",
    "elif price>50:\n",
    "    print(\"chair\")\n",
    "else:\n",
    "    print(\"bench\")"
   ]
  },
  {
   "cell_type": "code",
   "execution_count": 37,
   "id": "e5d0debb",
   "metadata": {},
   "outputs": [
    {
     "name": "stdout",
     "output_type": "stream",
     "text": [
      "bench\n"
     ]
    }
   ],
   "source": [
    "price=130\n",
    "if price>140:\n",
    "    print(\"balcony\")\n",
    "elif price<50:\n",
    "    print(\"chair\")\n",
    "else:\n",
    "    print(\"bench\")"
   ]
  },
  {
   "cell_type": "code",
   "execution_count": null,
   "id": "f507cc26",
   "metadata": {},
   "outputs": [],
   "source": [
    "Scenario5: my showroom vehicle types. \n",
    "if vehicle type is two wheeler print bike and scooty. \n",
    "if vehicle type is four wheeler print car, loory, van and zeep\n",
    "నా షోరూమ్ వాహనాల రకాలు. వాహనం రకం టూ వీలర్ ప్రింట్ బైక్ మరియు స్కూటీ అయితే. వాహనం రకం ఫోర్ వీలర్ ప్రింట్ కారు అయితే, లూరీ, వ్యాన్ మరియు జీప్"
   ]
  },
  {
   "cell_type": "code",
   "execution_count": 34,
   "id": "aa4df084",
   "metadata": {},
   "outputs": [
    {
     "name": "stdout",
     "output_type": "stream",
     "text": [
      "bike and scooty\n"
     ]
    }
   ],
   "source": [
    "vechile=\"two wheeler\"\n",
    "if vechile==\"two wheeler\":\n",
    "    print(\"bike and scooty\")\n",
    "elif vechile==\"four wheeler\":\n",
    "    print(\"car,lorry,van,zeep\")\n",
    "else:\n",
    "    print(\"not available\")"
   ]
  },
  {
   "cell_type": "code",
   "execution_count": 35,
   "id": "c5512db2",
   "metadata": {},
   "outputs": [
    {
     "name": "stdout",
     "output_type": "stream",
     "text": [
      "car,lorry,van,zeep\n"
     ]
    }
   ],
   "source": [
    "vechile=\"four wheeler\"\n",
    "if vechile==\"two wheeler\":\n",
    "    print(\"bike and scooty\")\n",
    "elif vechile==\"four wheeler\":\n",
    "    print(\"car,lorry,van,zeep\")\n",
    "else:\n",
    "    print(\"not available\")"
   ]
  },
  {
   "cell_type": "code",
   "execution_count": null,
   "id": "461b0e9e",
   "metadata": {},
   "outputs": [],
   "source": []
  }
 ],
 "metadata": {
  "kernelspec": {
   "display_name": "Python 3 (ipykernel)",
   "language": "python",
   "name": "python3"
  },
  "language_info": {
   "codemirror_mode": {
    "name": "ipython",
    "version": 3
   },
   "file_extension": ".py",
   "mimetype": "text/x-python",
   "name": "python",
   "nbconvert_exporter": "python",
   "pygments_lexer": "ipython3",
   "version": "3.10.9"
  }
 },
 "nbformat": 4,
 "nbformat_minor": 5
}
